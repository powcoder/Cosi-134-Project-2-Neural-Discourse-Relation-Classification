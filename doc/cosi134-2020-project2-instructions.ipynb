{
 "cells": [
  {
   "cell_type": "markdown",
   "metadata": {},
   "source": [
    "# Cosi 134 - Project 2: Neural Discourse Relation Classification\n",
    "Due: October 20, 2020"
   ]
  },
  {
   "cell_type": "markdown",
   "metadata": {},
   "source": [
    "The task for Project 2 is discourse relation classification, the same as in Project 1. "
   ]
  },
  {
   "cell_type": "markdown",
   "metadata": {},
   "source": [
    "## 1. What is Discourse Relation Classification?\n",
    "\n",
    "A typical text consists of sentences that are glued together in a systematic way to form a coherent discourse.\n",
    "Discourse Relation Classification is the task of classifying the discourse relation between two adjacent or\n",
    "non-adjacent discourse units. This project is motivated by the CoNLL 2016 Shared Task: Shallow Discourse\n",
    "Parsing. More information can be found here: http://www.cs.brandeis.edu/~clp/conll16st/index.html"
   ]
  },
  {
   "cell_type": "markdown",
   "metadata": {},
   "source": [
    "### 1.1  Discourse Analysis in the Penn Discourse Treebank (PDTB)\n",
    "\n",
    "We use the Penn Discourse Treebank as the data set. The PDTB annotates a text with a set of discourse relations. A discourse relation is composed of:\n",
    "-  a discourse connective, which can be a coordinating conjunction (e.g., \"and\",\"but\"), subordinating conjunction (e.g. \"if\", \"because\"), or a discourse adverbial (e.g., \"however\", \"also\"). In an implicit discousre relaiton, a discourse connective is omitted;\n",
    "-  two Arguments of the discourse connective, Arg1 and Arg2, which are typically text spans the size of clauses or sentences;\n",
    "-  the sense of the discourse connective, which characterizes the nature of the relationship between the two arguments of the connective (e.g., contrast, instantiation, temporal precedence)."
   ]
  },
  {
   "cell_type": "markdown",
   "metadata": {},
   "source": [
    "### 1.2 Examples discourse relations from the PDTB\n",
    "\n",
    "Here is a paragraph taken from the document wsj 1000 in the PDTB. A discourse relation classifier will output a discourse relation for each pair of arguments, as visualized below. <font color='red'>Arg1</font> is shown in red, <font color='blue'>Arg2</font> is\n",
    "shown in blue, and <u>the discourse connective</u> is underlined.\n",
    "\n",
    "**Explicit Discourse relations**:\n",
    "\n",
    "According to Lawrence Eckenfelder, a securities industry analyst at Prudential-Bache Securities Inc., \"Kemper is the first firm to make a major statement with program trading.\" He added that \"<font color='red'>having just one firm do this isn't going to mean a hill of beans</font>. <u>But</u> <font color='blue'>this prompts others to consider the same thing, then it may become much more important</font>.\" \n",
    "\n",
    "The discourse connective is \"but\", and the sense is Comparison.Concession.\n",
    "\n",
    "**Implicit Discourse Relations** \n",
    "\n",
    "According to Lawrence Eckenfelder, a securities industry analyst at Prudential-Bache Securities Inc., \"<font color=red>Kemper is the first firm to make a major statement with program trading</font>.\" He added <font color=blue> that \"having just one firm do this isn't going to mean a hill of beans</font>. But if this prompts others to consider the same thing, then it may become much more important.\"\n",
    "\n",
    "The omitted discourse connective is \"however\", and the sense is Comparison.Contrast.\n",
    "\n"
   ]
  },
  {
   "cell_type": "markdown",
   "metadata": {},
   "source": [
    "## 2 Useful information about how to process the PDTB data set\n",
    "\n",
    "* It is located in `data/pdtb` in the starter package\n",
    "* PDTB comes with pre-defined dataset splits of training, dev and test sets\n",
    "* The training data are from Sections 2-21, the development set is from Section 22, and Section 23 is used as the evaluation/test set.\n",
    "* By default, the features include separate unigrams for Arg1, Arg2 and Connectives. Use these to output a single `feature vector`.\n"
   ]
  },
  {
   "cell_type": "markdown",
   "metadata": {},
   "source": [
    "### 2.2 Format of a discourse relation instance in json:\n",
    "\n",
    "Each discourse relation instance has the following components:\n",
    "- Arg1 : the text span of Arg1 of the relation\n",
    "- Arg2 : the text span of Arg2 of the relation\n",
    "- Connective : the text span of the connective of the relation. This could be optional.\n",
    "- DocID : document id where the relation is in.\n",
    "- ID : the relation id, which is unique across training, dev, and test sets.\n",
    "- Sense : the sense of the relation, which is what your model needs to predict.\n",
    "- Type : the type of relation (Explicit, Implicit, Entrel, AltLex, or NoRel) \n",
    "\n",
    "The text span is in the same format for Arg1, Arg2, and Connective. A text span has the following fields:\n",
    "- CharacterSpanList : the list of character offsets (beginning, end) in the raw untokenized data file.\n",
    "- RawText : the raw untokenized text of the span\n",
    "- TokenList : the list of the addresses of the tokens in the form of (character offset begin, character offset end, token offset within the document, sentence offset, token offset within the sentence)\n"
   ]
  },
  {
   "cell_type": "code",
   "execution_count": 2,
   "metadata": {},
   "outputs": [
    {
     "data": {
      "text/plain": [
       "{'Arg1': {'CharacterSpanList': [[9, 50]],\n",
       "  'RawText': 'Solo woodwind players have to be creative',\n",
       "  'TokenList': [[9, 13, 0, 0, 0],\n",
       "   [14, 22, 1, 0, 1],\n",
       "   [23, 30, 2, 0, 2],\n",
       "   [31, 35, 3, 0, 3],\n",
       "   [36, 38, 4, 0, 4],\n",
       "   [39, 41, 5, 0, 5],\n",
       "   [42, 50, 6, 0, 6]]},\n",
       " 'Arg2': {'CharacterSpanList': [[54, 77]],\n",
       "  'RawText': 'they want to work a lot',\n",
       "  'TokenList': [[54, 58, 8, 0, 8],\n",
       "   [59, 63, 9, 0, 9],\n",
       "   [64, 66, 10, 0, 10],\n",
       "   [67, 71, 11, 0, 11],\n",
       "   [72, 73, 12, 0, 12],\n",
       "   [74, 77, 13, 0, 13]]},\n",
       " 'Connective': {'CharacterSpanList': [[51, 53]],\n",
       "  'RawText': 'if',\n",
       "  'TokenList': [[51, 53, 7, 0, 7]]},\n",
       " 'DocID': 'wsj_0207',\n",
       " 'ID': 3183,\n",
       " 'Sense': ['Contingency.Condition'],\n",
       " 'Type': 'Explicit'}"
      ]
     },
     "execution_count": 2,
     "metadata": {},
     "output_type": "execute_result"
    }
   ],
   "source": [
    "import json\n",
    "pdtb_file = open(\"../data/pdtb/train.json\", encoding='utf-8')\n",
    "relations = [json.loads(x) for x in pdtb_file]\n",
    "example_relation = relations[10]\n",
    "example_relation"
   ]
  },
  {
   "cell_type": "markdown",
   "metadata": {},
   "source": [
    "### 2.1 The list of discourse relation labels (senses):\n",
    "* The complete list of labels are given to you as `SENSES` in `corpus.py` See below for details."
   ]
  },
  {
   "cell_type": "code",
   "execution_count": 3,
   "metadata": {},
   "outputs": [],
   "source": [
    "SENSES = [\n",
    "    'Temporal',\n",
    "    'Temporal.Asynchronous',\n",
    "    'Temporal.Asynchronous.Precedence',\n",
    "    'Temporal.Asynchronous.Succession',\n",
    "    'Temporal.Synchrony',\n",
    "    'Contingency',\n",
    "    'Contingency.Cause',\n",
    "    'Contingency.Cause.Reason',\n",
    "    'Contingency.Cause.Result',\n",
    "    'Contingency.Condition',\n",
    "    'Comparison',\n",
    "    'Comparison.Contrast',\n",
    "    'Comparison.Concession',\n",
    "    'Expansion',\n",
    "    'Expansion.Conjunction',\n",
    "    'Expansion.Instantiation',\n",
    "    'Expansion.Restatement',\n",
    "    'Expansion.Alternative',\n",
    "    'Expansion.Alternative.Chosen alternative', # `alternative` can be safely ignored\n",
    "    'Expansion.Exception',\n",
    "    'EntRel'\n",
    "]"
   ]
  },
  {
   "cell_type": "code",
   "execution_count": 4,
   "metadata": {},
   "outputs": [],
   "source": [
    "def to_level(sense: str, level: int = 2) -> str:\n",
    "    \"\"\"converts a sense in string to a desired level\n",
    "\n",
    "    There are 3 sense levels in PDTB:\n",
    "    Level 1 senses are the single-word senses like `Temporal` and `Contingency`.\n",
    "    Level 2 senses add an additional sub-level sense on top of Level 1 senses,\n",
    "      as in `Expansion.Exception`\n",
    "    Level 3 senses adds yet another sub-level sense, as in\n",
    "      `Temporal.Asynchronous.Precedence`.\n",
    "\n",
    "    This function is used to ensure that all senses do not exceed the desired\n",
    "    sense level provided as the argument `level`. For example,\n",
    "\n",
    "    >>> to_level('Expansion.Restatement', level=1)\n",
    "    'Expansion'\n",
    "    >>> to_level('Temporal.Asynchronous.Succession', level=2)\n",
    "    'Temporal.Asynchronous'\n",
    "\n",
    "    When the input sense has a lower sense level than the desired sense level,\n",
    "    this function will retain the original sense string. For example,\n",
    "\n",
    "    >>> to_level('Expansion', level=2)\n",
    "    'Expansion'\n",
    "    >>> to_level('Comparison.Contrast', level=3)\n",
    "    'Comparison.Contrast'\n",
    "\n",
    "    Args:\n",
    "    sense (str): a sense as given in a `relaions.json` file\n",
    "    level (int): a desired sense level\n",
    "\n",
    "    Returns:\n",
    "    str: a sense below or at the desired sense level\n",
    "    \"\"\"\n",
    "    s_split = sense.split(\".\")\n",
    "    s_join = \".\".join(s_split[:level])\n",
    "    return s_join"
   ]
  },
  {
   "cell_type": "markdown",
   "metadata": {},
   "source": [
    "## 3 Project Requirements:\n",
    "\n",
    "The goal of this project is to implement a model to classify discourse relations, the same task as in Project 1. This time though, you are asked to implement neural network models in PyTorch that allow you to perform the following experiments:\n",
    "\n",
    "* Experiment 1. Implement Logistic Regression as a two-layer neural network, and tune the hyperparameters (learning rate, optimization methods, etc.) to obtain the best results you could. Compare the results with what you have obtained in PA1. The results should be similar if they are implemented correctly.\n",
    "\n",
    "* Experiment 2: Adding a hidden layer to the Logistic Regression model to make it a deep feedforward network (also known as multi-layer perceptron). Optimize the size of the hidden layer to get the best results. You can optionally experiment with multiple hidden layers. Does adding hidden layers help improve your classification accuracy?\n",
    "\n",
    "* Experiment 3: Experiment with using pretrained word embeddings such as GLOVE in your nueural network model. Experiment with different word embedding sizes. Start with a smaller embedding size (e.g., 50) to make sure your network is not too slow, and gradually increase moves to larger embedding sizes. Does using pretrained word embeddings help with your classification accuracy? The GLOVE embeddings can be Downloaded here: https://nlp.stanford.edu/projects/glove\n",
    "\n",
    "* Experiment 4 (optional, for extra credit): Experiment with using a convolutional network for the discourse classification problem. When switching to convolutional networks, you may need to change the input representation of your network to a sequence. \n",
    "\n",
    "When you work on this project, you need to perform the following steps:\n",
    "\n",
    "1. Implement data processing code that reads in training/develop/test data in the format as described in Section 2,  and outputs sense classifications in the format as described in Section 3.1.\n",
    "\n",
    "2. Evaluate your system on explicit, implicit, and all relations, using the evaluation script described in Section 3.2.\n",
    "\n",
    "3. Write a project report:\n",
    " - Describe the code structure of your project, and provide instructions as to how to run/test your system.\n",
    " - Describe your input representation, neural network architecture, and the hyperparameters that you have used in each  of the experiment settings outlined above. Report your experimental results and analyze of what has worked and what hasn't.\n",
    " - Limit your the length of your report to 5 pages.\n",
    " - Grading will be based on the correctness of your implementation, the performance of your models, and the clarity of your report.\n",
    "\n"
   ]
  },
  {
   "attachments": {
    "image.png": {
     "image/png": "[encoded data removed]"
    }
   },
   "cell_type": "markdown",
   "metadata": {},
   "source": [
    "### 3.1 What should the system output look like?\n",
    "\n",
    "The system output must be in json format. It is very similar to the training set except for the TokenList field. The TokenList field is now a list of document level token indices. Even if the relation is not explicit, the connective field must still be there, and its TokenList must be an empty list. You may however add whatever field into json to help yourself debug or develop the system. Below is an example of a relation given by the system.\n",
    "\n",
    "![image.png](attachment:image.png)"
   ]
  },
  {
   "cell_type": "markdown",
   "metadata": {},
   "source": [
    "### 3.2 Evaluation\n",
    "\n",
    "Precision, recall, and F of the discourse relation classification are used as the evaluation metrics. To evaluate, run:\n",
    "python scorer.py <path-to-gold-file>/relations.json <path-to-output-file>/output.json\n",
    "\n",
    "The scorer should not be modified. If you run into issues, contact me or the TAs\n"
   ]
  }
 ],
 "metadata": {
  "kernelspec": {
   "display_name": "Python 3",
   "language": "python",
   "name": "python3"
  },
  "language_info": {
   "codemirror_mode": {
    "name": "ipython",
    "version": 3
   },
   "file_extension": ".py",
   "mimetype": "text/x-python",
   "name": "python",
   "nbconvert_exporter": "python",
   "pygments_lexer": "ipython3",
   "version": "3.6.5"
  }
 },
 "nbformat": 4,
 "nbformat_minor": 2
}
